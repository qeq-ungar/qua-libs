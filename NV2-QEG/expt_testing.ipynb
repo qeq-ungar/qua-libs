{
 "cells": [
  {
   "cell_type": "code",
   "execution_count": 1,
   "metadata": {},
   "outputs": [
    {
     "name": "stdout",
     "output_type": "stream",
     "text": [
      "2025-02-10 15:59:36,634 - qm - INFO     - Starting session: a9d2be44-40ca-406e-b314-79e59edc2814\n"
     ]
    }
   ],
   "source": [
    "from experiment import NVExperiment\n",
    "from configuration import *\n",
    "from qm.qua import *"
   ]
  },
  {
   "cell_type": "code",
   "execution_count": 2,
   "metadata": {},
   "outputs": [
    {
     "name": "stdout",
     "output_type": "stream",
     "text": [
      "2025-02-10 15:59:39,354 - qm - INFO     - Performing health check\n",
      "2025-02-10 15:59:39,360 - qm - INFO     - Health check passed\n"
     ]
    }
   ],
   "source": [
    "test = NVExperiment()"
   ]
  },
  {
   "cell_type": "code",
   "execution_count": 3,
   "metadata": {},
   "outputs": [],
   "source": [
    "test.setup_cw_odmr(readout_len=long_meas_len_1)"
   ]
  },
  {
   "cell_type": "code",
   "execution_count": 4,
   "metadata": {},
   "outputs": [],
   "source": [
    "test.define_loop(np.arange(-30, 70, 2) * int(u.MHz))"
   ]
  },
  {
   "cell_type": "code",
   "execution_count": 5,
   "metadata": {},
   "outputs": [
    {
     "ename": "AttributeError",
     "evalue": "'NVExperiment' object has no attribute 'pulses'",
     "output_type": "error",
     "traceback": [
      "\u001b[0;31m---------------------------------------------------------------------------\u001b[0m",
      "\u001b[0;31mAttributeError\u001b[0m                            Traceback (most recent call last)",
      "Cell \u001b[0;32mIn[5], line 1\u001b[0m\n\u001b[0;32m----> 1\u001b[0m \u001b[43mtest\u001b[49m\u001b[38;5;241;43m.\u001b[39;49m\u001b[43msimulate_experiment\u001b[49m\u001b[43m(\u001b[49m\u001b[43m)\u001b[49m\n",
      "File \u001b[0;32m~/qua-dev/qua-libs/NV2-QEG/experiment.py:222\u001b[0m, in \u001b[0;36mNVExperiment.simulate_experiment\u001b[0;34m(self, n_avg, **kwargs)\u001b[0m\n\u001b[1;32m    219\u001b[0m \u001b[38;5;28;01mif\u001b[39;00m \u001b[38;5;28mself\u001b[39m\u001b[38;5;241m.\u001b[39mvar_vec \u001b[38;5;129;01mis\u001b[39;00m \u001b[38;5;28;01mNone\u001b[39;00m:\n\u001b[1;32m    220\u001b[0m     \u001b[38;5;28;01mraise\u001b[39;00m \u001b[38;5;167;01mValueError\u001b[39;00m(\u001b[38;5;124m\"\u001b[39m\u001b[38;5;124mNo variable vector has been defined.\u001b[39m\u001b[38;5;124m\"\u001b[39m)\n\u001b[0;32m--> 222\u001b[0m expt \u001b[38;5;241m=\u001b[39m \u001b[38;5;28;43mself\u001b[39;49m\u001b[38;5;241;43m.\u001b[39;49m\u001b[43mcreate_experiment\u001b[49m\u001b[43m(\u001b[49m\u001b[43mn_avg\u001b[49m\u001b[38;5;241;43m=\u001b[39;49m\u001b[43mn_avg\u001b[49m\u001b[43m)\u001b[49m\n\u001b[1;32m    223\u001b[0m simulation_config \u001b[38;5;241m=\u001b[39m SimulationConfig(duration\u001b[38;5;241m=\u001b[39m\u001b[38;5;241m10_000\u001b[39m)  \u001b[38;5;66;03m# In clock cycles = 4ns\u001b[39;00m\n\u001b[1;32m    224\u001b[0m job \u001b[38;5;241m=\u001b[39m \u001b[38;5;28mself\u001b[39m\u001b[38;5;241m.\u001b[39mqmm\u001b[38;5;241m.\u001b[39msimulate(config, expt, simulation_config)\n",
      "File \u001b[0;32m~/qua-dev/qua-libs/NV2-QEG/experiment.py:184\u001b[0m, in \u001b[0;36mNVExperiment.create_experiment\u001b[0;34m(self, n_avg)\u001b[0m\n\u001b[1;32m    182\u001b[0m     wait(command[\u001b[38;5;124m\"\u001b[39m\u001b[38;5;124mduration\u001b[39m\u001b[38;5;124m\"\u001b[39m] \u001b[38;5;241m*\u001b[39m u\u001b[38;5;241m.\u001b[39mns)\n\u001b[1;32m    183\u001b[0m \u001b[38;5;28;01melif\u001b[39;00m command[\u001b[38;5;124m\"\u001b[39m\u001b[38;5;124mtype\u001b[39m\u001b[38;5;124m\"\u001b[39m] \u001b[38;5;241m==\u001b[39m \u001b[38;5;124m\"\u001b[39m\u001b[38;5;124mlaser\u001b[39m\u001b[38;5;124m\"\u001b[39m:\n\u001b[0;32m--> 184\u001b[0m     play(command, \u001b[38;5;124m\"\u001b[39m\u001b[38;5;124mAOM1\u001b[39m\u001b[38;5;124m\"\u001b[39m, duration\u001b[38;5;241m=\u001b[39m\u001b[38;5;28;43mself\u001b[39;49m\u001b[38;5;241;43m.\u001b[39;49m\u001b[43mpulses\u001b[49m[command][\u001b[38;5;124m\"\u001b[39m\u001b[38;5;124mlength\u001b[39m\u001b[38;5;124m\"\u001b[39m] \u001b[38;5;241m*\u001b[39m u\u001b[38;5;241m.\u001b[39mns)\n\u001b[1;32m    185\u001b[0m \u001b[38;5;28;01melif\u001b[39;00m command[\u001b[38;5;124m\"\u001b[39m\u001b[38;5;124mtype\u001b[39m\u001b[38;5;124m\"\u001b[39m] \u001b[38;5;241m==\u001b[39m \u001b[38;5;124m\"\u001b[39m\u001b[38;5;124mmeasure\u001b[39m\u001b[38;5;124m\"\u001b[39m:\n\u001b[1;32m    186\u001b[0m     measure(\n\u001b[1;32m    187\u001b[0m         command[\u001b[38;5;124m\"\u001b[39m\u001b[38;5;124mname\u001b[39m\u001b[38;5;124m\"\u001b[39m], \u001b[38;5;124m\"\u001b[39m\u001b[38;5;124mSPCM1\u001b[39m\u001b[38;5;124m\"\u001b[39m, \u001b[38;5;28;01mNone\u001b[39;00m, time_tagging\u001b[38;5;241m.\u001b[39manalog(times, command[\u001b[38;5;124m\"\u001b[39m\u001b[38;5;124mmeas_len\u001b[39m\u001b[38;5;124m\"\u001b[39m], counts)\n\u001b[1;32m    188\u001b[0m     )\n",
      "\u001b[0;31mAttributeError\u001b[0m: 'NVExperiment' object has no attribute 'pulses'"
     ]
    }
   ],
   "source": [
    "test.simulate_experiment()"
   ]
  },
  {
   "cell_type": "code",
   "execution_count": null,
   "metadata": {},
   "outputs": [],
   "source": []
  }
 ],
 "metadata": {
  "kernelspec": {
   "display_name": "qua-env",
   "language": "python",
   "name": "python3"
  },
  "language_info": {
   "codemirror_mode": {
    "name": "ipython",
    "version": 3
   },
   "file_extension": ".py",
   "mimetype": "text/x-python",
   "name": "python",
   "nbconvert_exporter": "python",
   "pygments_lexer": "ipython3",
   "version": "3.12.3"
  }
 },
 "nbformat": 4,
 "nbformat_minor": 2
}
