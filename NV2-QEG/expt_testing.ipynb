{
 "cells": [
  {
   "cell_type": "code",
   "execution_count": null,
   "metadata": {},
   "outputs": [],
   "source": [
    "from experiment import NVExperiment\n",
    "from configuration import *\n",
    "from qm.qua import *"
   ]
  },
  {
   "cell_type": "code",
   "execution_count": 8,
   "metadata": {},
   "outputs": [
    {
     "name": "stdout",
     "output_type": "stream",
     "text": [
      "2025-02-10 16:36:06,479 - qm - INFO     - Performing health check\n",
      "2025-02-10 16:36:06,484 - qm - INFO     - Health check passed\n"
     ]
    }
   ],
   "source": [
    "test = NVExperiment()"
   ]
  },
  {
   "cell_type": "code",
   "execution_count": 9,
   "metadata": {},
   "outputs": [],
   "source": [
    "test.setup_cw_odmr(readout_len=long_meas_len_1)"
   ]
  },
  {
   "cell_type": "code",
   "execution_count": 10,
   "metadata": {},
   "outputs": [],
   "source": [
    "test.define_loop(np.arange(-30, 70, 2) * int(u.MHz))"
   ]
  },
  {
   "cell_type": "code",
   "execution_count": 11,
   "metadata": {},
   "outputs": [
    {
     "name": "stdout",
     "output_type": "stream",
     "text": [
      "2025-02-10 16:36:06,678 - qm - INFO     - Simulating program\n"
     ]
    },
    {
     "data": {
      "text/plain": [
       "<qm.jobs.simulated_job.SimulatedJob at 0x7f8d13da2fc0>"
      ]
     },
     "execution_count": 11,
     "metadata": {},
     "output_type": "execute_result"
    }
   ],
   "source": [
    "test.simulate_experiment()"
   ]
  }
 ],
 "metadata": {
  "kernelspec": {
   "display_name": "qua-env",
   "language": "python",
   "name": "python3"
  },
  "language_info": {
   "codemirror_mode": {
    "name": "ipython",
    "version": 3
   },
   "file_extension": ".py",
   "mimetype": "text/x-python",
   "name": "python",
   "nbconvert_exporter": "python",
   "pygments_lexer": "ipython3",
   "version": "3.12.3"
  }
 },
 "nbformat": 4,
 "nbformat_minor": 2
}
