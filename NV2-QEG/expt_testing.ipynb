{
 "cells": [
  {
   "cell_type": "code",
   "execution_count": 1,
   "execution_count": 1,
   "metadata": {},
   "outputs": [
    {
     "name": "stdout",
     "output_type": "stream",
     "text": [
      "2025-02-13 14:29:04,471 - qm - INFO     - Starting session: cafe68e3-150f-48cc-ae35-f48a63fe0474\n"
     ]
    }
   ],
   "outputs": [
    {
     "name": "stdout",
     "output_type": "stream",
     "text": [
      "2025-02-13 14:57:55,107 - qm - INFO     - Starting session: 7d21880d-a895-4316-84b6-f8dd318b0787\n"
     ]
    }
   ],
   "source": [
    "from experiment import NVExperiment\n",
    "from configuration_NV2QEG import *\n",
    "from qm.qua import *"
   ]
  },
  {
   "cell_type": "code",
   "execution_count": 2,
   "execution_count": 2,
   "metadata": {},
   "outputs": [
    {
     "name": "stdout",
     "output_type": "stream",
     "text": [
      "2025-02-13 14:29:06,774 - qm - INFO     - Performing health check\n",
      "2025-02-13 14:29:06,780 - qm - INFO     - Health check passed\n"
      "2025-02-13 14:57:57,858 - qm - INFO     - Performing health check\n",
      "2025-02-13 14:57:57,864 - qm - INFO     - Health check passed\n"
     ]
    }
   ],
   "source": [
    "test = NVExperiment()"
   ]
  },
  {
   "cell_type": "code",
   "execution_count": 3,
   "execution_count": 3,
   "metadata": {},
   "outputs": [],
   "source": [
    "test.setup_cw_odmr()"
   ]
  },
  {
   "cell_type": "code",
   "execution_count": 4,
   "execution_count": 4,
   "metadata": {},
   "outputs": [],
   "source": [
    "test.define_loop(np.arange(-30, 70, 2) * int(u.MHz))"
   ]
  },
  {
   "cell_type": "code",
   "execution_count": 5,
   "execution_count": 5,
   "metadata": {},
   "outputs": [
    {
     "name": "stdout",
     "output_type": "stream",
     "text": [
      "2025-02-13 14:29:06,906 - qm - INFO     - Simulating program\n"
      "2025-02-13 14:57:58,124 - qm - INFO     - Simulating program\n"
     ]
    },
    {
     "data": {
      "text/plain": [
       "<qm.jobs.simulated_job.SimulatedJob at 0x29912109210>"
       "<qm.jobs.simulated_job.SimulatedJob at 0x7f9de6e20aa0>"
      ]
     },
     "execution_count": 5,
     "execution_count": 5,
     "metadata": {},
     "output_type": "execute_result"
    }
   ],
   "source": [
    "test.simulate_experiment(sim_length=2500)"
   ]
  },
  {
   "cell_type": "code",
   "execution_count": null,
   "metadata": {},
   "outputs": [],
   "source": []
  },
  {
   "cell_type": "code",
   "execution_count": null,
   "metadata": {},
   "outputs": [],
   "source": []
  }
 ],
 "metadata": {
  "kernelspec": {
   "display_name": ".venv",
   "language": "python",
   "name": "python3"
  },
  "language_info": {
   "codemirror_mode": {
    "name": "ipython",
    "version": 3
   },
   "file_extension": ".py",
   "mimetype": "text/x-python",
   "name": "python",
   "nbconvert_exporter": "python",
   "pygments_lexer": "ipython3",
   "version": "3.10.11"
  }
 },
 "nbformat": 4,
 "nbformat_minor": 2
}
